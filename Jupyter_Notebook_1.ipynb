{
 "cells": [
  {
   "cell_type": "markdown",
   "metadata": {},
   "source": [
    "<center>\n",
    "    <img src=\"https://cf-courses-data.s3.us.cloud-object-storage.appdomain.cloud/IBMDeveloperSkillsNetwork-DS0105EN-SkillsNetwork/labs/Module2/images/SN_web_lightmode.png\" width=\"300\" alt=\"cognitiveclass.ai logo\">\n",
    "</center>\n"
   ]
  },
  {
   "cell_type": "markdown",
   "metadata": {},
   "source": [
    "#### Add your code below following the instructions given in the course\n"
   ]
  },
  {
   "cell_type": "markdown",
   "metadata": {},
   "source": [
    "# My Jupyter Notebook on IBM Watson Studio"
   ]
  },
  {
   "cell_type": "markdown",
   "metadata": {},
   "source": [
    "This is the peer-graded assignment for the \"Tools for Data Science\" course."
   ]
  },
  {
   "cell_type": "markdown",
   "metadata": {},
   "source": [
    "Some of data science languages are:\n",
    "\n",
    "* Python\n",
    "* R\n",
    "* SQL"
   ]
  },
  {
   "cell_type": "markdown",
   "metadata": {},
   "source": [
    "Some of Data Science libraries are:\n",
    "\n",
    "* NumPy\n",
    "* Matplotlib\n",
    "* Seaborn\n",
    "* Spark\n",
    "* Tensorflow"
   ]
  },
  {
   "cell_type": "markdown",
   "metadata": {},
   "source": [
    "Data Science tools:\n",
    "\n",
    "|Tool|What it does|\n",
    "| ------------- |:--------------------------------------:|\n",
    "|Watson Studio|Extracts insights from data, create visualizations, build models, and support machine learning and deep learning algorithms. |\n",
    "|IBM Watson Knowledge Catalog|Unites assets in a single catalog|\n",
    "|Data Refinery|It's a data preparation environment, where we can clean and transform data|\n",
    "|SPSS Modeler Flows|Builds machine learning models and pipelines|\n",
    "|IBM SPSS Modeler|Enables users to leverage statistical and data mining algorithms without programming|\n",
    "|SPSS Statistics|Builds predictive models and perform statistical analysis of data|\n",
    "|Auto AI|Creates and deploys machine learning models with real time visualizations|\n",
    "|IBM Watson OpenScale|Tests models and provides explanation for model predictions|"
   ]
  },
  {
   "cell_type": "code",
   "execution_count": 3,
   "metadata": {},
   "outputs": [
    {
     "data": {
      "text/plain": [
       "19"
      ]
     },
     "execution_count": 3,
     "metadata": {},
     "output_type": "execute_result"
    }
   ],
   "source": [
    "3 * 5 + 8 - 4"
   ]
  },
  {
   "cell_type": "code",
   "execution_count": 4,
   "metadata": {},
   "outputs": [
    {
     "name": "stdout",
     "output_type": "stream",
     "text": [
      "First number is 5\n",
      "Seconf number is 8\n",
      "The sum of the two numbers is 13\n",
      "Multuplication of the two numbers is 40\n"
     ]
    }
   ],
   "source": [
    "print('First number is 5')\n",
    "print('Seconf number is 8')\n",
    "print('The sum of the two numbers is ' + str(5 + 8))\n",
    "print('Multuplication of the two numbers is ' + str(5 * 8))"
   ]
  },
  {
   "cell_type": "code",
   "execution_count": 6,
   "metadata": {},
   "outputs": [
    {
     "name": "stdout",
     "output_type": "stream",
     "text": [
      "Converting 120 minutes to hours:\n",
      "The result is 2\n"
     ]
    }
   ],
   "source": [
    "def convert_minutes_to_hours(x):\n",
    "    return x//60\n",
    "\n",
    "print('Converting 120 minutes to hours:')\n",
    "print('The result is ' + str(convert_minutes_to_hours(120)))"
   ]
  },
  {
   "cell_type": "markdown",
   "metadata": {},
   "source": [
    "These are objectives:\n",
    "* Objective 1\n",
    "* Objective 2\n",
    "* Objective 3"
   ]
  },
  {
   "cell_type": "markdown",
   "metadata": {},
   "source": [
    "**Author's name**\n",
    "\n",
    "Camila Maia"
   ]
  },
  {
   "cell_type": "code",
   "execution_count": null,
   "metadata": {},
   "outputs": [],
   "source": []
  }
 ],
 "metadata": {
  "kernelspec": {
   "display_name": "Python",
   "language": "python",
   "name": "conda-env-python-py"
  },
  "language_info": {
   "codemirror_mode": {
    "name": "ipython",
    "version": 3
   },
   "file_extension": ".py",
   "mimetype": "text/x-python",
   "name": "python",
   "nbconvert_exporter": "python",
   "pygments_lexer": "ipython3",
   "version": "3.7.12"
  }
 },
 "nbformat": 4,
 "nbformat_minor": 4
}
